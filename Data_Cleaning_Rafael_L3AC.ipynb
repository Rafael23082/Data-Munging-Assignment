{
  "nbformat": 4,
  "nbformat_minor": 0,
  "metadata": {
    "colab": {
      "provenance": []
    },
    "kernelspec": {
      "name": "python3",
      "display_name": "Python 3"
    },
    "language_info": {
      "name": "python"
    }
  },
  "cells": [
    {
      "cell_type": "markdown",
      "source": [
        "**IMPORTING NECESSARY MODULES, AND CSV FILES**"
      ],
      "metadata": {
        "id": "yeXjM5G8DYGV"
      }
    },
    {
      "cell_type": "code",
      "execution_count": 22,
      "metadata": {
        "collapsed": true,
        "id": "k-B38B-5vYIu"
      },
      "outputs": [],
      "source": [
        "import pandas as pd\n",
        "\n",
        "df1 = pd.read_csv(\"car_data1.csv\")\n",
        "df2 = pd.read_csv(\"car_data2.csv\")"
      ]
    },
    {
      "cell_type": "markdown",
      "source": [
        "**.rename()**"
      ],
      "metadata": {
        "id": "s-CgcFFFDvS8"
      }
    },
    {
      "cell_type": "code",
      "source": [
        "# Make sure the price is in the correct format\n",
        "df1[\"Selling_Price\"] = df1[\"Selling_Price\"] * 100000\n",
        "df1[\"Present_Price\"] = df1[\"Present_Price\"] * 100000\n",
        "\n",
        "df1 = df1.rename(columns={\"Selling_Price\" : \"Selling_Price\"})\n",
        "\n",
        "# To match the first file's headers in order to avoid duplicate attributes (After the concatenation)\n",
        "df2 = df2.rename(columns={\"name\" : \"Car_Name\"})\n",
        "df2 = df2.rename(columns={\"fuel\" : \"Fuel_Type\"})\n",
        "df2 = df2.rename(columns={\"year\" : \"Year\"})\n",
        "df2 = df2.rename(columns={\"selling_price\" : \"Selling_Price\"})\n",
        "df2 = df2.rename(columns={\"owner\" : \"Owner\"})\n",
        "df2 = df2.rename(columns={\"transmission\" : \"Transmission\"})\n",
        "df2 = df2.rename(columns={\"seller_type\" : \"Seller_Type\"})\n",
        "df2 = df2.rename(columns={\"km_driven\" : \"Kms_Driven\"})"
      ],
      "metadata": {
        "id": "cADoWJQ4yLVO"
      },
      "execution_count": 23,
      "outputs": []
    },
    {
      "cell_type": "markdown",
      "source": [
        "**.concat() ||**\n",
        "**FINDING THE AMOUNT OF NULL VALUES PRESENT IN EACH ATTRIBUTE**"
      ],
      "metadata": {
        "id": "fdaO0GPYD5ah"
      }
    },
    {
      "cell_type": "code",
      "source": [
        "df = pd.concat([df1, df2]) # To combine the two related tables\n",
        "\n",
        "# To demonstrate that the original copy has null values\n",
        "df_original = df.copy()\n",
        "print(df_original)\n",
        "print(df_original.isnull().sum())\n",
        "\n",
        "# Checking if there are any null values on each column\n",
        "print(f\"There are {df['Car_Name'].isnull().sum()} null values in the Car_Name attribute\")\n",
        "print(f\"There are {df['Year'].isnull().sum()} null values in the Year attribute\")\n",
        "print(f\"There are {df['Selling_Price'].isnull().sum()} null values in the Selling_Price attribute\")\n",
        "print(f\"There are {df['Present_Price'].isnull().sum()} null values in the Present_Price attribute\")\n",
        "print(f\"There are {df['Kms_Driven'].isnull().sum()} null values in the Kms_Driven attribute\")\n",
        "print(f\"There are {df['Fuel_Type'].isnull().sum()} null values in the Fuel_Type attribute\")\n",
        "print(f\"There are {df['Seller_Type'].isnull().sum()} null values in the Seller_Type attribute\")\n",
        "print(f\"There are {df['Transmission'].isnull().sum()} null values in the Transmission attribute\")\n",
        "print(f\"There are {df['Owner'].isnull().sum()} null values in the Owner attribute\")"
      ],
      "metadata": {
        "colab": {
          "base_uri": "https://localhost:8080/"
        },
        "id": "o1eVMzSU0B8r",
        "outputId": "b35cac59-398b-4aa4-923a-435c31f4b805"
      },
      "execution_count": 24,
      "outputs": [
        {
          "output_type": "stream",
          "name": "stdout",
          "text": [
            "                                 Car_Name  Year  Selling_Price  Present_Price  Kms_Driven Fuel_Type Seller_Type Transmission         Owner\n",
            "0                                    ritz  2014       335000.0       559000.0       27000    Petrol      Dealer       Manual             0\n",
            "1                                     sx4  2013       475000.0       954000.0       43000    Diesel      Dealer       Manual             0\n",
            "2                                    ciaz  2017       725000.0       985000.0        6900    Petrol      Dealer       Manual             0\n",
            "3                                 wagon r  2011       285000.0       415000.0        5200    Petrol      Dealer       Manual             0\n",
            "4                                   swift  2014       460000.0       687000.0       42450    Diesel      Dealer       Manual             0\n",
            "...                                   ...   ...            ...            ...         ...       ...         ...          ...           ...\n",
            "4335  Hyundai i20 Magna 1.4 CRDi (Diesel)  2014       409999.0            NaN       80000    Diesel  Individual       Manual  Second Owner\n",
            "4336           Hyundai i20 Magna 1.4 CRDi  2014       409999.0            NaN       80000    Diesel  Individual       Manual  Second Owner\n",
            "4337                  Maruti 800 AC BSIII  2009       110000.0            NaN       83000    Petrol  Individual       Manual  Second Owner\n",
            "4338     Hyundai Creta 1.6 CRDi SX Option  2016       865000.0            NaN       90000    Diesel  Individual       Manual   First Owner\n",
            "4339                     Renault KWID RXT  2016       225000.0            NaN       40000    Petrol  Individual       Manual   First Owner\n",
            "\n",
            "[4641 rows x 9 columns]\n",
            "Car_Name            0\n",
            "Year                0\n",
            "Selling_Price       0\n",
            "Present_Price    4340\n",
            "Kms_Driven          0\n",
            "Fuel_Type           0\n",
            "Seller_Type         0\n",
            "Transmission        0\n",
            "Owner               0\n",
            "dtype: int64\n",
            "There are 0 null values in the Car_Name attribute\n",
            "There are 0 null values in the Year attribute\n",
            "There are 0 null values in the Selling_Price attribute\n",
            "There are 4340 null values in the Present_Price attribute\n",
            "There are 0 null values in the Kms_Driven attribute\n",
            "There are 0 null values in the Fuel_Type attribute\n",
            "There are 0 null values in the Seller_Type attribute\n",
            "There are 0 null values in the Transmission attribute\n",
            "There are 0 null values in the Owner attribute\n"
          ]
        }
      ]
    },
    {
      "cell_type": "markdown",
      "source": [
        "**LIMITING THE AMOUNT OF ROWS, COLUMNS, AND WIDTH TAKEN WHEN PRINTING. ADDING ANOTHER ATTRIBUTE (CAR_ID).**\n",
        "\n",
        "**.set_index()**\n",
        "\n",
        "**.index**"
      ],
      "metadata": {
        "id": "EWXAKd8FEKl2"
      }
    },
    {
      "cell_type": "code",
      "source": [
        "# Limit the amount of records printed to 10 and the amount of attributes to 9\n",
        "pd.set_option(\"display.max_rows\", 10)\n",
        "pd.set_option(\"display.max_columns\", 9)\n",
        "pd.set_option(\"display.width\", 250)\n",
        "\n",
        "df = df.rename(columns={\"Year\" : \"Car_Year\"})\n",
        "\n",
        "df[\"Car_ID\"] = df.index # Create new attribute that contains the index of the record\n",
        "df = df.set_index(\"Car_ID\") # Set as Index\n",
        "\n",
        "print(df)"
      ],
      "metadata": {
        "colab": {
          "base_uri": "https://localhost:8080/"
        },
        "id": "BMgY8-TBzcHt",
        "outputId": "3a60e49c-9fcb-4392-b53e-01fad513bb7d"
      },
      "execution_count": 38,
      "outputs": [
        {
          "output_type": "stream",
          "name": "stdout",
          "text": [
            "                                   Car_Name  Car_Year  Selling_Price  Present_Price  Kms_Driven Fuel_Type Seller_Type Transmission         Owner\n",
            "Car_ID                                                                                                                                          \n",
            "0                                      ritz      2014       335000.0       559000.0       27000    Petrol      Dealer       Manual             0\n",
            "1                                       sx4      2013       475000.0       954000.0       43000    Diesel      Dealer       Manual             0\n",
            "2                                      ciaz      2017       725000.0       985000.0        6900    Petrol      Dealer       Manual             0\n",
            "3                                   wagon r      2011       285000.0       415000.0        5200    Petrol      Dealer       Manual             0\n",
            "4                                     swift      2014       460000.0       687000.0       42450    Diesel      Dealer       Manual             0\n",
            "...                                     ...       ...            ...            ...         ...       ...         ...          ...           ...\n",
            "4335    Hyundai i20 Magna 1.4 CRDi (Diesel)      2014       409999.0            NaN       80000    Diesel  Individual       Manual  Second Owner\n",
            "4336             Hyundai i20 Magna 1.4 CRDi      2014       409999.0            NaN       80000    Diesel  Individual       Manual  Second Owner\n",
            "4337                    Maruti 800 AC BSIII      2009       110000.0            NaN       83000    Petrol  Individual       Manual  Second Owner\n",
            "4338       Hyundai Creta 1.6 CRDi SX Option      2016       865000.0            NaN       90000    Diesel  Individual       Manual   First Owner\n",
            "4339                       Renault KWID RXT      2016       225000.0            NaN       40000    Petrol  Individual       Manual   First Owner\n",
            "\n",
            "[4641 rows x 9 columns]\n"
          ]
        }
      ]
    },
    {
      "cell_type": "markdown",
      "source": [
        "**INSPECTING**"
      ],
      "metadata": {
        "id": "c9wINwACEwT1"
      }
    },
    {
      "cell_type": "code",
      "source": [
        "# Inspecting DataFrame\n",
        "print(df.head())\n",
        "print(df.tail())\n",
        "print(df.info())\n",
        "print(df.describe())"
      ],
      "metadata": {
        "colab": {
          "base_uri": "https://localhost:8080/"
        },
        "id": "KMUFQKHEzhSq",
        "outputId": "bb4096c4-907b-4f1f-a38b-275c55e48850"
      },
      "execution_count": 26,
      "outputs": [
        {
          "output_type": "stream",
          "name": "stdout",
          "text": [
            "       Car_Name  Car_Year  Selling_Price  Present_Price  Kms_Driven Fuel_Type Seller_Type Transmission Owner\n",
            "Car_ID                                                                                                      \n",
            "0          ritz      2014       335000.0       559000.0       27000    Petrol      Dealer       Manual     0\n",
            "1           sx4      2013       475000.0       954000.0       43000    Diesel      Dealer       Manual     0\n",
            "2          ciaz      2017       725000.0       985000.0        6900    Petrol      Dealer       Manual     0\n",
            "3       wagon r      2011       285000.0       415000.0        5200    Petrol      Dealer       Manual     0\n",
            "4         swift      2014       460000.0       687000.0       42450    Diesel      Dealer       Manual     0\n",
            "                                   Car_Name  Car_Year  Selling_Price  Present_Price  Kms_Driven Fuel_Type Seller_Type Transmission         Owner\n",
            "Car_ID                                                                                                                                          \n",
            "4335    Hyundai i20 Magna 1.4 CRDi (Diesel)      2014       409999.0            NaN       80000    Diesel  Individual       Manual  Second Owner\n",
            "4336             Hyundai i20 Magna 1.4 CRDi      2014       409999.0            NaN       80000    Diesel  Individual       Manual  Second Owner\n",
            "4337                    Maruti 800 AC BSIII      2009       110000.0            NaN       83000    Petrol  Individual       Manual  Second Owner\n",
            "4338       Hyundai Creta 1.6 CRDi SX Option      2016       865000.0            NaN       90000    Diesel  Individual       Manual   First Owner\n",
            "4339                       Renault KWID RXT      2016       225000.0            NaN       40000    Petrol  Individual       Manual   First Owner\n",
            "<class 'pandas.core.frame.DataFrame'>\n",
            "Index: 4641 entries, 0 to 4339\n",
            "Data columns (total 9 columns):\n",
            " #   Column         Non-Null Count  Dtype  \n",
            "---  ------         --------------  -----  \n",
            " 0   Car_Name       4641 non-null   object \n",
            " 1   Car_Year       4641 non-null   int64  \n",
            " 2   Selling_Price  4641 non-null   float64\n",
            " 3   Present_Price  301 non-null    float64\n",
            " 4   Kms_Driven     4641 non-null   int64  \n",
            " 5   Fuel_Type      4641 non-null   object \n",
            " 6   Seller_Type    4641 non-null   object \n",
            " 7   Transmission   4641 non-null   object \n",
            " 8   Owner          4641 non-null   object \n",
            "dtypes: float64(2), int64(2), object(5)\n",
            "memory usage: 362.6+ KB\n",
            "None\n",
            "          Car_Year  Selling_Price  Present_Price     Kms_Driven\n",
            "count  4641.000000   4.641000e+03   3.010000e+02    4641.000000\n",
            "mean   2013.125619   5.016629e+05   7.628472e+05   64317.514113\n",
            "std       4.144215   5.742791e+05   8.644115e+05   46736.207015\n",
            "min    1992.000000   1.000000e+04   3.200000e+04       1.000000\n",
            "25%    2011.000000   2.000000e+05   1.200000e+05   31000.000000\n",
            "50%    2014.000000   3.500000e+05   6.400000e+05   57035.000000\n",
            "75%    2016.000000   6.000000e+05   9.900000e+05   90000.000000\n",
            "max    2020.000000   8.900000e+06   9.260000e+06  806599.000000\n"
          ]
        }
      ]
    },
    {
      "cell_type": "markdown",
      "source": [
        "**.apply()**"
      ],
      "metadata": {
        "id": "QQBfYklFE5ky"
      }
    },
    {
      "cell_type": "code",
      "source": [
        "# Printing the number of non-null record present on each attribute\n",
        "pd.set_option(\"display.max_rows\", 12)\n",
        "sums = df.apply(lambda row : row.count())\n",
        "print(f\"Number of Records on each attribute:\\n{sums}\")"
      ],
      "metadata": {
        "colab": {
          "base_uri": "https://localhost:8080/"
        },
        "id": "BwXKHq-h3jEw",
        "outputId": "6764117a-278d-4e7e-a2d7-6f519848c31d"
      },
      "execution_count": 27,
      "outputs": [
        {
          "output_type": "stream",
          "name": "stdout",
          "text": [
            "Number of Records on each attribute:\n",
            "Car_Name         4641\n",
            "Car_Year         4641\n",
            "Selling_Price    4641\n",
            "Present_Price     301\n",
            "Kms_Driven       4641\n",
            "Fuel_Type        4641\n",
            "Seller_Type      4641\n",
            "Transmission     4641\n",
            "Owner            4641\n",
            "dtype: int64\n"
          ]
        }
      ]
    },
    {
      "cell_type": "markdown",
      "source": [
        "**.melt()**\n",
        "\n",
        "**.pivot()**"
      ],
      "metadata": {
        "id": "ePgXgRi1FCVA"
      }
    },
    {
      "cell_type": "code",
      "source": [
        "df[\"Car_ID\"] = df.index # Code is repeated since I there is a weird error stating that the Car_ID attribute doesn't exist.\n",
        "df.set_index(\"Car_ID\")\n",
        "\n",
        "# Melt it, but allow the car_name and car_year attribute to remain the same\n",
        "melted_df = df.melt(id_vars=[\"Car_Name\", \"Car_Year\"])\n",
        "print(melted_df)\n",
        "\n",
        "pivoted_df = df.pivot(index=\"Car_ID\", columns=\"Car_Name\", values=\"Kms_Driven\")\n",
        "print(df)\n"
      ],
      "metadata": {
        "colab": {
          "base_uri": "https://localhost:8080/"
        },
        "id": "YoRvFhCARoeL",
        "outputId": "e4adea86-3684-4040-f382-33cd85df7334"
      },
      "execution_count": 63,
      "outputs": [
        {
          "output_type": "stream",
          "name": "stdout",
          "text": [
            "                                  Car_Name  Car_Year       variable     value\n",
            "0                                     ritz      2014  Selling_Price  335000.0\n",
            "1                                      sx4      2013  Selling_Price  475000.0\n",
            "2                                     ciaz      2017  Selling_Price  725000.0\n",
            "3                                  wagon r      2011  Selling_Price  285000.0\n",
            "4                                    swift      2014  Selling_Price  460000.0\n",
            "...                                    ...       ...            ...       ...\n",
            "37123  Hyundai i20 Magna 1.4 CRDi (Diesel)      2014         Car_ID      4335\n",
            "37124           Hyundai i20 Magna 1.4 CRDi      2014         Car_ID      4336\n",
            "37125                  Maruti 800 AC BSIII      2009         Car_ID      4337\n",
            "37126     Hyundai Creta 1.6 CRDi SX Option      2016         Car_ID      4338\n",
            "37127                     Renault KWID RXT      2016         Car_ID      4339\n",
            "\n",
            "[37128 rows x 4 columns]\n",
            "                                   Car_Name  Car_Year  Selling_Price  Present_Price  ...  Seller_Type Transmission         Owner Car_ID\n",
            "Car_ID                                                                               ...                                               \n",
            "0                                      ritz      2014       335000.0   559000.00000  ...       Dealer       Manual             0      0\n",
            "1                                       sx4      2013       475000.0   954000.00000  ...       Dealer       Manual             0      1\n",
            "2                                      ciaz      2017       725000.0   985000.00000  ...       Dealer       Manual             0      2\n",
            "3                                   wagon r      2011       285000.0   415000.00000  ...       Dealer       Manual             0      3\n",
            "4                                     swift      2014       460000.0   687000.00000  ...       Dealer       Manual             0      4\n",
            "...                                     ...       ...            ...            ...  ...          ...          ...           ...    ...\n",
            "4335    Hyundai i20 Magna 1.4 CRDi (Diesel)      2014       409999.0   762847.17608  ...   Individual       Manual  Second Owner   4335\n",
            "4336             Hyundai i20 Magna 1.4 CRDi      2014       409999.0   762847.17608  ...   Individual       Manual  Second Owner   4336\n",
            "4337                    Maruti 800 AC BSIII      2009       110000.0   762847.17608  ...   Individual       Manual  Second Owner   4337\n",
            "4338       Hyundai Creta 1.6 CRDi SX Option      2016       865000.0   762847.17608  ...   Individual       Manual   First Owner   4338\n",
            "4339                       Renault KWID RXT      2016       225000.0   762847.17608  ...   Individual       Manual   First Owner   4339\n",
            "\n",
            "[4641 rows x 10 columns]\n"
          ]
        }
      ]
    },
    {
      "cell_type": "markdown",
      "source": [
        "**.query()**"
      ],
      "metadata": {
        "id": "fiwaXdjcFMTw"
      }
    },
    {
      "cell_type": "code",
      "source": [
        "filtered_df = df.query(\"Selling_Price < 150000\")\n",
        "print(filtered_df)"
      ],
      "metadata": {
        "colab": {
          "base_uri": "https://localhost:8080/"
        },
        "id": "Dms6C35r8bB_",
        "outputId": "7e423f27-f06e-4ae9-fa13-8996e5e83557"
      },
      "execution_count": 11,
      "outputs": [
        {
          "output_type": "stream",
          "name": "stdout",
          "text": [
            "                         Car_Name  Car_Year  Selling_Price  Present_Price  Kms_Driven Fuel_Type Seller_Type Transmission         Owner\n",
            "Car_ID                                                                                                                                \n",
            "37                            800      2003        35000.0       228000.0      127000    Petrol  Individual       Manual             0\n",
            "44                           omni      2012       125000.0       269000.0       50000    Petrol      Dealer       Manual             0\n",
            "47                        wagon r      2006       105000.0       415000.0       65000    Petrol      Dealer       Manual             0\n",
            "103             Bajaj Dominar 400      2017       145000.0       160000.0        1200    Petrol  Individual       Manual             0\n",
            "104     Royal Enfield Classic 350      2017       135000.0       147000.0        4100    Petrol  Individual       Manual             0\n",
            "...                           ...       ...            ...            ...         ...       ...         ...          ...           ...\n",
            "4320               Maruti Alto LX      2008       114999.0            NaN       66782    Petrol  Individual       Manual  Second Owner\n",
            "4321               Maruti Alto LX      2006        75000.0            NaN      130000    Petrol  Individual       Manual   First Owner\n",
            "4325              Maruti Alto LXi      2000        65000.0            NaN       90000    Petrol  Individual       Manual  Second Owner\n",
            "4326           Honda City 1.5 GXI      2005        65000.0            NaN      150000    Petrol  Individual       Manual   Third Owner\n",
            "4337          Maruti 800 AC BSIII      2009       110000.0            NaN       83000    Petrol  Individual       Manual  Second Owner\n",
            "\n",
            "[774 rows x 9 columns]\n"
          ]
        }
      ]
    },
    {
      "cell_type": "markdown",
      "source": [
        "**.groupby()**\n",
        "\n",
        "**.agg()**"
      ],
      "metadata": {
        "id": "mM7ZKMn4FTHa"
      }
    },
    {
      "cell_type": "code",
      "source": [
        "# To only print wanted elements (The name of the car and the selling price)\n",
        "print(df.groupby(\"Car_Name\")[\"Selling_Price\"].sum())\n",
        "\n",
        "print(\"\\nRevenue that will be generated if all cars are sold at their selling price:\")\n",
        "print(df.agg({\"Selling_Price\" : \"sum\"}))\n",
        "\n",
        "print(\"\\n\\nFinding the cheapest and the most expensive car\")\n",
        "print(df.agg({\"Selling_Price\" : [\"min\", \"max\"]}))"
      ],
      "metadata": {
        "id": "t_CIGIHxAlL8",
        "colab": {
          "base_uri": "https://localhost:8080/"
        },
        "outputId": "17be68d6-d126-4dd8-bb67-ff21980df4f5"
      },
      "execution_count": 12,
      "outputs": [
        {
          "output_type": "stream",
          "name": "stdout",
          "text": [
            "Car_Name\n",
            "800                                 35000.0\n",
            "Activa 3g                           62000.0\n",
            "Activa 4g                           40000.0\n",
            "Ambassador CLASSIC 1500 DSL AC     240000.0\n",
            "Ambassador Classic 2000 Dsz         50000.0\n",
            "                                    ...    \n",
            "sx4                               1895000.0\n",
            "verna                             8551000.0\n",
            "vitara brezza                      925000.0\n",
            "wagon r                           1005000.0\n",
            "xcent                             1490000.0\n",
            "Name: Selling_Price, Length: 1589, dtype: float64\n",
            "\n",
            "Revenue that will be generated if all cars are sold at their selling price:\n",
            "Selling_Price    2.328218e+09\n",
            "dtype: float64\n",
            "\n",
            "\n",
            "Finding the cheapest and the most expensive car\n",
            "     Selling_Price\n",
            "min        10000.0\n",
            "max      8900000.0\n"
          ]
        }
      ]
    },
    {
      "cell_type": "markdown",
      "source": [
        "**.fillna()**"
      ],
      "metadata": {
        "id": "8olGnLrDFcnZ"
      }
    },
    {
      "cell_type": "code",
      "source": [
        "df_original_copy = df_original.copy()\n",
        "\n",
        "# Fills all null values present in the Present_Price attribute\n",
        "df_original_copy[\"Present_Price\"] = df_original_copy[\"Present_Price\"].fillna(\"Price_Missing\")\n",
        "\n",
        "print(df_original_copy)"
      ],
      "metadata": {
        "colab": {
          "base_uri": "https://localhost:8080/"
        },
        "id": "1BA4ASHHnQd_",
        "outputId": "49f23736-984c-406b-d719-b8beaa47193f"
      },
      "execution_count": 49,
      "outputs": [
        {
          "output_type": "stream",
          "name": "stdout",
          "text": [
            "                                 Car_Name  Year  Selling_Price  Present_Price  Kms_Driven Fuel_Type Seller_Type Transmission         Owner\n",
            "0                                    ritz  2014       335000.0       559000.0       27000    Petrol      Dealer       Manual             0\n",
            "1                                     sx4  2013       475000.0       954000.0       43000    Diesel      Dealer       Manual             0\n",
            "2                                    ciaz  2017       725000.0       985000.0        6900    Petrol      Dealer       Manual             0\n",
            "3                                 wagon r  2011       285000.0       415000.0        5200    Petrol      Dealer       Manual             0\n",
            "4                                   swift  2014       460000.0       687000.0       42450    Diesel      Dealer       Manual             0\n",
            "...                                   ...   ...            ...            ...         ...       ...         ...          ...           ...\n",
            "4335  Hyundai i20 Magna 1.4 CRDi (Diesel)  2014       409999.0  Price_Missing       80000    Diesel  Individual       Manual  Second Owner\n",
            "4336           Hyundai i20 Magna 1.4 CRDi  2014       409999.0  Price_Missing       80000    Diesel  Individual       Manual  Second Owner\n",
            "4337                  Maruti 800 AC BSIII  2009       110000.0  Price_Missing       83000    Petrol  Individual       Manual  Second Owner\n",
            "4338     Hyundai Creta 1.6 CRDi SX Option  2016       865000.0  Price_Missing       90000    Diesel  Individual       Manual   First Owner\n",
            "4339                     Renault KWID RXT  2016       225000.0  Price_Missing       40000    Petrol  Individual       Manual   First Owner\n",
            "\n",
            "[4641 rows x 9 columns]\n"
          ]
        }
      ]
    },
    {
      "cell_type": "markdown",
      "source": [
        "**.dropna()**"
      ],
      "metadata": {
        "id": "3sVnLOLYFh1w"
      }
    },
    {
      "cell_type": "code",
      "source": [
        "# Remove all records containing null values\n",
        "cleaned_df_records = df_original.dropna()\n",
        "print(cleaned_df_records)\n",
        "\n",
        "# Remove all attributes containing null values\n",
        "cleaned_df_attributes = df_original.dropna(axis = 1)\n",
        "print(cleaned_df_attributes)"
      ],
      "metadata": {
        "colab": {
          "base_uri": "https://localhost:8080/"
        },
        "id": "QfhQCODvPktn",
        "outputId": "64abe6c5-a0ba-4150-8722-3b800acdf413"
      },
      "execution_count": 14,
      "outputs": [
        {
          "output_type": "stream",
          "name": "stdout",
          "text": [
            "    Car_Name  Year  Selling_Price  Present_Price  Kms_Driven Fuel_Type Seller_Type Transmission Owner\n",
            "0       ritz  2014       335000.0       559000.0       27000    Petrol      Dealer       Manual     0\n",
            "1        sx4  2013       475000.0       954000.0       43000    Diesel      Dealer       Manual     0\n",
            "2       ciaz  2017       725000.0       985000.0        6900    Petrol      Dealer       Manual     0\n",
            "3    wagon r  2011       285000.0       415000.0        5200    Petrol      Dealer       Manual     0\n",
            "4      swift  2014       460000.0       687000.0       42450    Diesel      Dealer       Manual     0\n",
            "..       ...   ...            ...            ...         ...       ...         ...          ...   ...\n",
            "296     city  2016       950000.0      1160000.0       33988    Diesel      Dealer       Manual     0\n",
            "297     brio  2015       400000.0       590000.0       60000    Petrol      Dealer       Manual     0\n",
            "298     city  2009       335000.0      1100000.0       87934    Petrol      Dealer       Manual     0\n",
            "299     city  2017      1150000.0      1250000.0        9000    Diesel      Dealer       Manual     0\n",
            "300     brio  2016       530000.0       590000.0        5464    Petrol      Dealer       Manual     0\n",
            "\n",
            "[301 rows x 9 columns]\n",
            "                                 Car_Name  Year  Selling_Price  Kms_Driven Fuel_Type Seller_Type Transmission         Owner\n",
            "0                                    ritz  2014       335000.0       27000    Petrol      Dealer       Manual             0\n",
            "1                                     sx4  2013       475000.0       43000    Diesel      Dealer       Manual             0\n",
            "2                                    ciaz  2017       725000.0        6900    Petrol      Dealer       Manual             0\n",
            "3                                 wagon r  2011       285000.0        5200    Petrol      Dealer       Manual             0\n",
            "4                                   swift  2014       460000.0       42450    Diesel      Dealer       Manual             0\n",
            "...                                   ...   ...            ...         ...       ...         ...          ...           ...\n",
            "4335  Hyundai i20 Magna 1.4 CRDi (Diesel)  2014       409999.0       80000    Diesel  Individual       Manual  Second Owner\n",
            "4336           Hyundai i20 Magna 1.4 CRDi  2014       409999.0       80000    Diesel  Individual       Manual  Second Owner\n",
            "4337                  Maruti 800 AC BSIII  2009       110000.0       83000    Petrol  Individual       Manual  Second Owner\n",
            "4338     Hyundai Creta 1.6 CRDi SX Option  2016       865000.0       90000    Diesel  Individual       Manual   First Owner\n",
            "4339                     Renault KWID RXT  2016       225000.0       40000    Petrol  Individual       Manual   First Owner\n",
            "\n",
            "[4641 rows x 8 columns]\n"
          ]
        }
      ]
    },
    {
      "cell_type": "markdown",
      "source": [
        "**Simple Imputer**"
      ],
      "metadata": {
        "id": "cbac4G8EFoF4"
      }
    },
    {
      "cell_type": "code",
      "source": [
        "from sklearn.impute import SimpleImputer\n",
        "\n",
        "df_original_copy_2 = df_original.copy()\n",
        "\n",
        "imputer_mean = SimpleImputer(missing_values=pd.NA, strategy='mean')\n",
        "df_original_copy_2['Present_Price'] = imputer_mean.fit_transform(df_original_copy_2['Present_Price'].values.reshape(-1, 1))[:, 0]\n",
        "\n",
        "print(df_original_copy_2)"
      ],
      "metadata": {
        "colab": {
          "base_uri": "https://localhost:8080/"
        },
        "id": "IGCBxEgwiO2U",
        "outputId": "b448d784-c8db-49e3-e178-0c851d743ab4"
      },
      "execution_count": 51,
      "outputs": [
        {
          "output_type": "stream",
          "name": "stdout",
          "text": [
            "                                 Car_Name  Year  Selling_Price  Present_Price  Kms_Driven Fuel_Type Seller_Type Transmission         Owner\n",
            "0                                    ritz  2014       335000.0   559000.00000       27000    Petrol      Dealer       Manual             0\n",
            "1                                     sx4  2013       475000.0   954000.00000       43000    Diesel      Dealer       Manual             0\n",
            "2                                    ciaz  2017       725000.0   985000.00000        6900    Petrol      Dealer       Manual             0\n",
            "3                                 wagon r  2011       285000.0   415000.00000        5200    Petrol      Dealer       Manual             0\n",
            "4                                   swift  2014       460000.0   687000.00000       42450    Diesel      Dealer       Manual             0\n",
            "...                                   ...   ...            ...            ...         ...       ...         ...          ...           ...\n",
            "4335  Hyundai i20 Magna 1.4 CRDi (Diesel)  2014       409999.0   762847.17608       80000    Diesel  Individual       Manual  Second Owner\n",
            "4336           Hyundai i20 Magna 1.4 CRDi  2014       409999.0   762847.17608       80000    Diesel  Individual       Manual  Second Owner\n",
            "4337                  Maruti 800 AC BSIII  2009       110000.0   762847.17608       83000    Petrol  Individual       Manual  Second Owner\n",
            "4338     Hyundai Creta 1.6 CRDi SX Option  2016       865000.0   762847.17608       90000    Diesel  Individual       Manual   First Owner\n",
            "4339                     Renault KWID RXT  2016       225000.0   762847.17608       40000    Petrol  Individual       Manual   First Owner\n",
            "\n",
            "[4641 rows x 9 columns]\n"
          ]
        }
      ]
    },
    {
      "cell_type": "markdown",
      "source": [
        "**CONVERTING 0 IN THE OWNER ATTRIBUTE TO NO OWNER USING REGEX (EXTRA MILES)**"
      ],
      "metadata": {
        "id": "03kocE0_Frw_"
      }
    },
    {
      "cell_type": "code",
      "source": [
        "df_original_copy_3 = df.copy()\n",
        "\n",
        "# Ensure 'Owner' column is string type\n",
        "df_original_copy_3[\"Owner\"] = df_original_copy_3[\"Owner\"].astype(str)\n",
        "\n",
        "# Use regex to replace '0' with 'No Owner' // ^ = Start of String, 0 = element to be replaced, $ = End of String\n",
        "df_original_copy_3[\"Owner\"] = df_original_copy_3[\"Owner\"].str.replace(\"^0$\", \"No Owner\", regex=True)\n",
        "\n",
        "print(df_original_copy_3)"
      ],
      "metadata": {
        "colab": {
          "base_uri": "https://localhost:8080/"
        },
        "id": "SqjEXtO2_B97",
        "outputId": "0848e90e-ed40-4ae2-a91a-5a73382c69d1"
      },
      "execution_count": 62,
      "outputs": [
        {
          "output_type": "stream",
          "name": "stdout",
          "text": [
            "                                   Car_Name  Car_Year  Selling_Price  Present_Price  ...  Seller_Type Transmission         Owner Car_ID\n",
            "Car_ID                                                                               ...                                               \n",
            "0                                      ritz      2014       335000.0   559000.00000  ...       Dealer       Manual      No Owner      0\n",
            "1                                       sx4      2013       475000.0   954000.00000  ...       Dealer       Manual      No Owner      1\n",
            "2                                      ciaz      2017       725000.0   985000.00000  ...       Dealer       Manual      No Owner      2\n",
            "3                                   wagon r      2011       285000.0   415000.00000  ...       Dealer       Manual      No Owner      3\n",
            "4                                     swift      2014       460000.0   687000.00000  ...       Dealer       Manual      No Owner      4\n",
            "...                                     ...       ...            ...            ...  ...          ...          ...           ...    ...\n",
            "4335    Hyundai i20 Magna 1.4 CRDi (Diesel)      2014       409999.0   762847.17608  ...   Individual       Manual  Second Owner   4335\n",
            "4336             Hyundai i20 Magna 1.4 CRDi      2014       409999.0   762847.17608  ...   Individual       Manual  Second Owner   4336\n",
            "4337                    Maruti 800 AC BSIII      2009       110000.0   762847.17608  ...   Individual       Manual  Second Owner   4337\n",
            "4338       Hyundai Creta 1.6 CRDi SX Option      2016       865000.0   762847.17608  ...   Individual       Manual   First Owner   4338\n",
            "4339                       Renault KWID RXT      2016       225000.0   762847.17608  ...   Individual       Manual   First Owner   4339\n",
            "\n",
            "[4641 rows x 10 columns]\n"
          ]
        }
      ]
    },
    {
      "cell_type": "code",
      "source": [
        "print(df)"
      ],
      "metadata": {
        "colab": {
          "base_uri": "https://localhost:8080/"
        },
        "id": "C4PaEJ1kUJhU",
        "outputId": "5abbac6b-b267-4c3e-938c-994d9422ee3b"
      },
      "execution_count": 55,
      "outputs": [
        {
          "output_type": "stream",
          "name": "stdout",
          "text": [
            "                                 Car_Name  Year  Selling_Price  Present_Price  Kms_Driven Fuel_Type Seller_Type Transmission         Owner\n",
            "0                                    ritz  2014       335000.0       559000.0       27000    Petrol      Dealer       Manual             0\n",
            "1                                     sx4  2013       475000.0       954000.0       43000    Diesel      Dealer       Manual             0\n",
            "2                                    ciaz  2017       725000.0       985000.0        6900    Petrol      Dealer       Manual             0\n",
            "3                                 wagon r  2011       285000.0       415000.0        5200    Petrol      Dealer       Manual             0\n",
            "4                                   swift  2014       460000.0       687000.0       42450    Diesel      Dealer       Manual             0\n",
            "...                                   ...   ...            ...            ...         ...       ...         ...          ...           ...\n",
            "4335  Hyundai i20 Magna 1.4 CRDi (Diesel)  2014       409999.0            NaN       80000    Diesel  Individual       Manual  Second Owner\n",
            "4336           Hyundai i20 Magna 1.4 CRDi  2014       409999.0            NaN       80000    Diesel  Individual       Manual  Second Owner\n",
            "4337                  Maruti 800 AC BSIII  2009       110000.0            NaN       83000    Petrol  Individual       Manual  Second Owner\n",
            "4338     Hyundai Creta 1.6 CRDi SX Option  2016       865000.0            NaN       90000    Diesel  Individual       Manual   First Owner\n",
            "4339                     Renault KWID RXT  2016       225000.0            NaN       40000    Petrol  Individual       Manual   First Owner\n",
            "\n",
            "[4641 rows x 9 columns]\n"
          ]
        }
      ]
    }
  ]
}